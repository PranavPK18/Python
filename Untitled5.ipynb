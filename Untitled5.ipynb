{
  "nbformat": 4,
  "nbformat_minor": 0,
  "metadata": {
    "colab": {
      "provenance": [],
      "authorship_tag": "ABX9TyPuX9Aro5gVxWyRFEY+pKCr",
      "include_colab_link": true
    },
    "kernelspec": {
      "name": "python3",
      "display_name": "Python 3"
    },
    "language_info": {
      "name": "python"
    }
  },
  "cells": [
    {
      "cell_type": "markdown",
      "metadata": {
        "id": "view-in-github",
        "colab_type": "text"
      },
      "source": [
        "<a href=\"https://colab.research.google.com/github/PranavPK18/Python/blob/main/Untitled5.ipynb\" target=\"_parent\"><img src=\"https://colab.research.google.com/assets/colab-badge.svg\" alt=\"Open In Colab\"/></a>"
      ]
    },
    {
      "cell_type": "markdown",
      "source": [
        "Ex. 1 Validation Exception"
      ],
      "metadata": {
        "id": "_NL1rSTh6kmR"
      }
    },
    {
      "cell_type": "code",
      "source": [
        "class ValidationException(Exception):\n",
        "    def __init__(self, message):\n",
        "        super().__init__(message)\n"
      ],
      "metadata": {
        "id": "c8POyFLv6sOY"
      },
      "execution_count": 33,
      "outputs": []
    },
    {
      "cell_type": "code",
      "source": [
        "def validate_file(filename):\n",
        "    with open(filename, 'r') as file:\n",
        "        next(file)  # Skip the header line\n",
        "        for line in file:\n",
        "            parts = line.strip().split(',')\n",
        "            if len(parts) != 2:\n",
        "                continue  # skip malformed lines\n",
        "\n",
        "            mileage_str = parts[1].strip()\n",
        "\n",
        "            # Check if mileage is a valid integer\n",
        "            if not mileage_str.isdigit():\n",
        "                raise ValidationException(f\"Invalid mileage:  {mileage_str}\")\n"
      ],
      "metadata": {
        "id": "8IQVHnhY7TsL"
      },
      "execution_count": 34,
      "outputs": []
    },
    {
      "cell_type": "code",
      "source": [
        "def ex1():\n",
        "    try:\n",
        "        validate_file(\"input.txt\")\n",
        "    except ValidationException as ve:\n",
        "        print(ve)\n",
        "\n",
        "ex1()\n"
      ],
      "metadata": {
        "colab": {
          "base_uri": "https://localhost:8080/"
        },
        "id": "0ztz93QD7WeM",
        "outputId": "6c241edf-8d2b-4d80-c374-0db89be4c370"
      },
      "execution_count": 35,
      "outputs": [
        {
          "output_type": "stream",
          "name": "stdout",
          "text": [
            "Invalid mileage:  32.13\n"
          ]
        }
      ]
    },
    {
      "cell_type": "markdown",
      "source": [
        "Ex. 2 Total Gym Visits"
      ],
      "metadata": {
        "id": "JAHznlA-7gSV"
      }
    },
    {
      "cell_type": "code",
      "source": [
        "def find_total_visits():\n",
        "    total_visits = 0\n",
        "    file_names = [\"week-1.csv\", \"week-2.csv\", \"week-3.csv\"]\n",
        "\n",
        "    for filename in file_names:\n",
        "        with open(filename, \"r\") as file:\n",
        "            lines = file.readlines()\n",
        "            for line in lines[1:]:  # Skip the header\n",
        "                parts = line.strip().split(\",\")\n",
        "                visits = parts[1:]  # Skip the name\n",
        "                total_visits += sum(int(v.strip()) for v in visits)\n",
        "\n",
        "    return total_visits\n"
      ],
      "metadata": {
        "id": "GSJGgUW47mvb"
      },
      "execution_count": 36,
      "outputs": []
    },
    {
      "cell_type": "code",
      "source": [
        "def ex2():\n",
        "    total = find_total_visits()\n",
        "    print(f\"Total visits: {total}.\")\n",
        "\n",
        "ex2()\n"
      ],
      "metadata": {
        "colab": {
          "base_uri": "https://localhost:8080/"
        },
        "id": "n8Vl3GFc8A21",
        "outputId": "05729f17-9540-449a-cb98-353a7297e137"
      },
      "execution_count": 37,
      "outputs": [
        {
          "output_type": "stream",
          "name": "stdout",
          "text": [
            "Total visits: 21.\n"
          ]
        }
      ]
    },
    {
      "cell_type": "markdown",
      "source": [
        "Ex. 3 Word Counter I/O"
      ],
      "metadata": {
        "id": "H6jrQIYD8OBn"
      }
    },
    {
      "cell_type": "code",
      "source": [
        "def count_words(filename):\n",
        "    small_words = set()\n",
        "    large_words = set()\n",
        "\n",
        "    with open(filename, 'r') as file:\n",
        "        text = file.read()\n",
        "        words = text.split()\n",
        "\n",
        "        for word in words:\n",
        "            if len(word) < 3:\n",
        "                small_words.add(word)\n",
        "            else:\n",
        "                large_words.add(word)\n",
        "\n",
        "    # Write small words to file\n",
        "    with open(\"small-words.txt\", \"w\") as sw_file:\n",
        "        for word in sorted(small_words):\n",
        "            sw_file.write(word + \"\\n\")\n",
        "\n",
        "    # Write large words to file\n",
        "    with open(\"large-words.txt\", \"w\") as lw_file:\n",
        "        for word in sorted(large_words):\n",
        "            lw_file.write(word + \"\\n\")\n",
        "\n",
        "    # Print to console\n",
        "    print(\"large-words.txt:\\n\")\n",
        "    for word in sorted(large_words):\n",
        "        print(word)\n",
        "    print(\"\\nsmall-words.txt:\\n\")\n",
        "    for word in sorted(small_words):\n",
        "        print(word)\n",
        "\n",
        "    # Return count of unique words\n",
        "    return len(small_words.union(large_words))\n"
      ],
      "metadata": {
        "id": "S4If3Thl8U1Y"
      },
      "execution_count": 38,
      "outputs": []
    },
    {
      "cell_type": "code",
      "source": [
        "def ex3():\n",
        "    total_words = count_words(\"words.txt\")\n",
        "    print(f\"\\nTotal words: {total_words}.\")\n",
        "\n",
        "ex3()\n"
      ],
      "metadata": {
        "colab": {
          "base_uri": "https://localhost:8080/"
        },
        "id": "5gfmxLFr8iWl",
        "outputId": "9b046ac7-346d-48b3-ab50-6cf423ed5679"
      },
      "execution_count": 39,
      "outputs": [
        {
          "output_type": "stream",
          "name": "stdout",
          "text": [
            "large-words.txt:\n",
            "\n",
            "How\n",
            "This\n",
            "are\n",
            "extremely\n",
            "file?\n",
            "large\n",
            "line.\n",
            "many\n",
            "second\n",
            "test.\n",
            "the\n",
            "this\n",
            "words\n",
            "\n",
            "small-words.txt:\n",
            "\n",
            "a\n",
            "in\n",
            "is\n",
            "\n",
            "Total words: 16.\n"
          ]
        }
      ]
    },
    {
      "cell_type": "markdown",
      "source": [
        "Ex. 4 Calculator Log S3"
      ],
      "metadata": {
        "id": "zFzuGZjm9DqM"
      }
    },
    {
      "cell_type": "code",
      "source": [
        "import boto3\n",
        "\n",
        "def calculate():\n",
        "    log = []\n",
        "    student_id = \"123456\"  # Replace with your actual student ID\n",
        "    filename = f\"calculator-log-{student_id}.txt\"\n",
        "    bucket_name = \"my-calculator-logs\"  # Replace with your actual bucket name\n",
        "\n",
        "    while True:\n",
        "        first = input(\"Enter first number: \").strip()\n",
        "        if first.lower() == 'q':\n",
        "            break\n",
        "        second = input(\"Enter second number: \").strip()\n",
        "\n",
        "        try:\n",
        "            num1 = int(first)\n",
        "            num2 = int(second)\n",
        "            result = num1 + num2\n",
        "            line = f\"{num1} + {num2} = {result}\"\n",
        "            print(line)\n",
        "            log.append(line)\n",
        "        except ValueError:\n",
        "            print(\"Invalid input. Please enter integers or 'q' to quit.\")\n",
        "\n",
        "    # Write log to file\n",
        "    with open(filename, \"w\") as f:\n",
        "        for entry in log:\n",
        "            f.write(entry + \"\\n\")\n",
        "\n",
        "    # Upload to S3\n",
        "    s3 = boto3.client(\"s3\")\n",
        "    try:\n",
        "        s3.upload_file(Filename=filename, Bucket=bucket_name, Key=filename)\n",
        "        print(\"*** Uploaded to S3 ***\")\n",
        "    except Exception as e:\n",
        "        print(\"Failed to upload to S3:\", e)\n"
      ],
      "metadata": {
        "id": "Z3ps0Gsu99cf"
      },
      "execution_count": 40,
      "outputs": []
    },
    {
      "cell_type": "code",
      "metadata": {
        "colab": {
          "base_uri": "https://localhost:8080/"
        },
        "id": "ac86176e",
        "outputId": "667c3a69-97d8-4e06-d4a4-3730745542ef"
      },
      "source": [
        "!pip install boto3"
      ],
      "execution_count": 41,
      "outputs": [
        {
          "output_type": "stream",
          "name": "stdout",
          "text": [
            "Requirement already satisfied: boto3 in /usr/local/lib/python3.12/dist-packages (1.40.53)\n",
            "Requirement already satisfied: botocore<1.41.0,>=1.40.53 in /usr/local/lib/python3.12/dist-packages (from boto3) (1.40.53)\n",
            "Requirement already satisfied: jmespath<2.0.0,>=0.7.1 in /usr/local/lib/python3.12/dist-packages (from boto3) (1.0.1)\n",
            "Requirement already satisfied: s3transfer<0.15.0,>=0.14.0 in /usr/local/lib/python3.12/dist-packages (from boto3) (0.14.0)\n",
            "Requirement already satisfied: python-dateutil<3.0.0,>=2.1 in /usr/local/lib/python3.12/dist-packages (from botocore<1.41.0,>=1.40.53->boto3) (2.9.0.post0)\n",
            "Requirement already satisfied: urllib3!=2.2.0,<3,>=1.25.4 in /usr/local/lib/python3.12/dist-packages (from botocore<1.41.0,>=1.40.53->boto3) (2.5.0)\n",
            "Requirement already satisfied: six>=1.5 in /usr/local/lib/python3.12/dist-packages (from python-dateutil<3.0.0,>=2.1->botocore<1.41.0,>=1.40.53->boto3) (1.17.0)\n"
          ]
        }
      ]
    },
    {
      "cell_type": "code",
      "source": [
        "def ex4():\n",
        "    calculate()\n",
        "\n",
        "ex4()\n"
      ],
      "metadata": {
        "colab": {
          "base_uri": "https://localhost:8080/"
        },
        "id": "nnsHECng9-w-",
        "outputId": "a1cfb6f2-c1db-496e-c566-e8783414ec60"
      },
      "execution_count": 42,
      "outputs": [
        {
          "output_type": "stream",
          "name": "stdout",
          "text": [
            "Enter first number: 1\n",
            "Enter second number: 2\n",
            "1 + 2 = 3\n",
            "Enter first number: 2\n",
            "Enter second number: 2\n",
            "2 + 2 = 4\n",
            "Enter first number: q\n",
            "Failed to upload to S3: Unable to locate credentials\n"
          ]
        }
      ]
    },
    {
      "cell_type": "markdown",
      "source": [
        "Ex. 5 Car List"
      ],
      "metadata": {
        "id": "Orx-vHmW-lh5"
      }
    },
    {
      "cell_type": "code",
      "source": [
        "from pprint import pprint\n",
        "\n",
        "def build_car_list():\n",
        "    car_list = []\n",
        "\n",
        "    # Step 1: Read mileage data\n",
        "    mileage_data = {}\n",
        "    with open(\"input.txt\", \"r\") as file:\n",
        "        next(file)  # skip header\n",
        "        for line in file:\n",
        "            parts = line.strip().split(\",\")\n",
        "            if len(parts) != 2:\n",
        "                continue\n",
        "            car_id_str, miles_str = parts\n",
        "            try:\n",
        "                car_id = int(car_id_str.strip())\n",
        "                miles = int(miles_str.strip())  # this will raise if not a valid int\n",
        "                mileage_data[car_id] = miles\n",
        "            except ValueError:\n",
        "                continue  # skip invalid mileage\n",
        "\n",
        "    # Step 2: Read car model data\n",
        "    car_models = {}\n",
        "    with open(\"car-ids.txt\", \"r\") as file:\n",
        "        for line in file:\n",
        "            parts = line.strip().split(\",\")\n",
        "            if len(parts) != 2:\n",
        "                continue\n",
        "            car_id_str, model = parts\n",
        "            try:\n",
        "                car_id = int(car_id_str.strip())\n",
        "                car_models[car_id] = model.strip()\n",
        "            except ValueError:\n",
        "                continue\n",
        "\n",
        "    # Step 3: Merge data\n",
        "    for car_id, miles in mileage_data.items():\n",
        "        if car_id in car_models:\n",
        "            car_list.append({\n",
        "                'id': car_id,\n",
        "                'miles': miles,\n",
        "                'model': car_models[car_id]\n",
        "            })\n",
        "\n",
        "    return car_list\n"
      ],
      "metadata": {
        "id": "GyqScbPa-o5j"
      },
      "execution_count": 43,
      "outputs": []
    },
    {
      "cell_type": "code",
      "source": [
        "def ex5():\n",
        "    car_list = build_car_list()\n",
        "    pprint(car_list)\n",
        "\n",
        "ex5()\n"
      ],
      "metadata": {
        "colab": {
          "base_uri": "https://localhost:8080/"
        },
        "id": "EsT9kkDo-6mu",
        "outputId": "e8a8fe96-3564-4f49-d48a-19ad812719aa"
      },
      "execution_count": 44,
      "outputs": [
        {
          "output_type": "stream",
          "name": "stdout",
          "text": [
            "[{'id': 1, 'miles': 10111, 'model': 'Ford'},\n",
            " {'id': 2, 'miles': 30333, 'model': 'Chevy'},\n",
            " {'id': 3, 'miles': 40443, 'model': 'Toyota'},\n",
            " {'id': 5, 'miles': 60000, 'model': 'Nissan'}]\n"
          ]
        }
      ]
    }
  ]
}